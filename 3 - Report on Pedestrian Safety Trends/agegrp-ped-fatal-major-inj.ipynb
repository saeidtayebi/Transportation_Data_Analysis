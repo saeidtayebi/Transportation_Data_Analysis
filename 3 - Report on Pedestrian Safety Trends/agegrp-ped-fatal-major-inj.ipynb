{
 "cells": [
  {
   "cell_type": "code",
   "execution_count": null,
   "metadata": {},
   "outputs": [],
   "source": [
    "import pandas as pd\n",
    "import matplotlib.pyplot as plt\n",
    "\n",
    "# Load the data into a DataFrame\n",
    "data = pd.read_csv('merged_data.csv')\n",
    "\n",
    "# Filter for pedestrians with fatal or major injuries\n",
    "pedestrians = data[(data['involved_class'] == 'PEDESTRIAN') & ((data['involved_injury_class'] == 'FATAL') | (data['involved_injury_class'] == 'MAJOR INJURY'))]\n",
    "\n",
    "# Group the ages into 10-year intervals\n",
    "pedestrians['age_group'] = pd.cut(pedestrians['involved_age'], bins=range(0, 101, 10), labels=['0-9', '10-19', '20-29', '30-39', '40-49', '50-59', '60-69', '70-79', '80-89', '90-99'])\n",
    "\n",
    "# Count the number of pedestrians in each age group with fatal or major injuries\n",
    "age_counts = pedestrians.groupby('age_group')['involved_injury_class'].count()\n",
    "\n",
    "# Create a bar chart\n",
    "age_counts.plot(kind='bar', rot=0)\n",
    "\n",
    "# Set the chart title and axis labels\n",
    "plt.title('Pedestrians with Fatal or Major Injuries by Age Group')\n",
    "plt.xlabel('Age Group')\n",
    "plt.ylabel('Number of Pedestrians')\n",
    "\n",
    "# Display the chart\n",
    "plt.show()\n",
    "\n",
    "\n",
    "#question2\n",
    "import pandas as pd\n",
    "import matplotlib.pyplot as plt\n",
    "\n",
    "# load the dataset\n",
    "data = pd.read_csv('merged_data.csv')\n",
    "\n",
    "# filter for pedestrian entries\n",
    "pedestrians = data[data['involved_class'].isin(['PEDESTRIAN', 'PEDESTRIAN - NOT HIT'])]\n",
    "\n",
    "# create age groups\n",
    "pedestrians['age_group'] = pd.cut(pedestrians['involved_age'], [0, 64, 200], labels=['0-64', '65+'])\n",
    "\n",
    "# create a frequency table of collisions by age group\n",
    "age_groups = pedestrians.groupby(['age_group', 'involved_injury_class']).size().unstack(fill_value=0)\n",
    "\n",
    "# create a pie chart for each age group\n",
    "for age_group in age_groups.index:\n",
    "    age_group_data = age_groups.loc[age_group]\n",
    "    plt.figure(figsize=(8, 6))\n",
    "    plt.pie(age_group_data, labels=age_group_data.index, autopct='%1.1f%%', startangle=90)\n",
    "    plt.title(f'Pedestrian Collisions by Injury Severity for Age Group {age_group}')\n",
    "    plt.show()\n"
   ]
  }
 ],
 "metadata": {
  "kernelspec": {
   "display_name": "Python 3",
   "language": "python",
   "name": "python3"
  },
  "language_info": {
   "codemirror_mode": {
    "name": "ipython",
    "version": 3
   },
   "file_extension": ".py",
   "mimetype": "text/x-python",
   "name": "python",
   "nbconvert_exporter": "python",
   "pygments_lexer": "ipython3",
   "version": "3.7.4"
  }
 },
 "nbformat": 4,
 "nbformat_minor": 2
}
