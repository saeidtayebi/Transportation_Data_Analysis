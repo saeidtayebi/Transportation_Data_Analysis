{
 "cells": [
  {
   "cell_type": "code",
   "execution_count": null,
   "metadata": {},
   "outputs": [],
   "source": [
    "import matplotlib.pyplot as plt\n",
    "import pandas as pd\n",
    "\n",
    "# Load the merged_data into a pandas DataFrame\n",
    "merged_data = pd.read_csv('merged_data.csv')\n",
    "\n",
    "# Count the frequency of each entry in the \"location_class\" column\n",
    "location_counts = merged_data['location_class'].replace('MIDBLOCK (ABNORMAL)', 'MIDBLOCK').value_counts()\n",
    "\n",
    "# Plot a pie chart of the location counts\n",
    "plt.figure(figsize=(12, 8))\n",
    "plt.pie(location_counts, labels=location_counts.index, autopct='%1.1f%%')\n",
    "plt.title('Pedestrian Collisions by Location')\n",
    "plt.show()\n",
    "\n",
    "# Print the finding about pedestrian collisions by location\n",
    "print(\"Pedestrian Collisions by Location:\")\n",
    "print(location_counts)\n",
    "\n",
    "# Filter the merged_data for \"PEDESTRIAN\" or \"PEDESTRIAN - NOT HIT\" entries in the \"involved_class\" column\n",
    "pedestrian_data = merged_data[merged_data['involved_class'].isin(['PEDESTRIAN', 'PEDESTRIAN - NOT HIT'])]\n",
    "\n",
    "# Count the frequency of each entry in the \"manoeuver\" column for all pedestrian incidents\n",
    "pedestrian_maneuver_counts = pedestrian_data['manoeuver'].value_counts()\n",
    "\n",
    "# Plot a pie chart of the pedestrian maneuver counts, showing only the top 3 portions' titles\n",
    "fig1, ax1 = plt.subplots(figsize=(12, 8))\n",
    "ax1.pie(pedestrian_maneuver_counts, labels=pedestrian_maneuver_counts.index, autopct='%1.1f%%')\n",
    "ax1.set_title('Pedestrian Collisions by Vehicle Maneuver')\n",
    "plt.show()\n",
    "\n",
    "# Print the finding about pedestrian collisions by vehicle maneuver\n",
    "print(\"Pedestrian Collisions by Vehicle Maneuver:\")\n",
    "print(pedestrian_maneuver_counts)"
   ]
  }
 ],
 "metadata": {
  "kernelspec": {
   "display_name": "Python 3",
   "language": "python",
   "name": "python3"
  },
  "language_info": {
   "codemirror_mode": {
    "name": "ipython",
    "version": 3
   },
   "file_extension": ".py",
   "mimetype": "text/x-python",
   "name": "python",
   "nbconvert_exporter": "python",
   "pygments_lexer": "ipython3",
   "version": "3.7.4"
  }
 },
 "nbformat": 4,
 "nbformat_minor": 2
}
