{
 "cells": [
  {
   "cell_type": "code",
   "execution_count": null,
   "metadata": {},
   "outputs": [],
   "source": [
    "import pandas as pd\n",
    "import matplotlib.pyplot as plt\n",
    "\n",
    "# Load the merged data\n",
    "merged_data = pd.read_csv(\"merged_data.csv\")\n",
    "\n",
    "# Filter for pedestrian-involved collisions only\n",
    "pedestrian_data = merged_data[(merged_data[\"involved_class\"] == \"PEDESTRIAN\") | \n",
    "                              (merged_data[\"involved_class\"] == \"PEDESTRIAN - NOT HIT\")]\n",
    "\n",
    "# Count the number of collisions in each district\n",
    "district_counts = pedestrian_data[\"district\"].value_counts()\n",
    "\n",
    "# Plot the results as a bar chart\n",
    "plt.figure(figsize=(10,6))\n",
    "district_counts.head(10).plot(kind='bar')\n",
    "plt.title(\"Districts with Most Pedestrian-Involved Collisions\")\n",
    "plt.xlabel(\"District\")\n",
    "plt.ylabel(\"Number of Collisions\")\n",
    "plt.show()\n",
    "\n",
    "# print frequency table\n",
    "print(\"Frequency table for districts with pedestrian collisions:\")\n",
    "print(district_counts)\n",
    "\n",
    "\n",
    "##question 2\n",
    "# filter for pedestrians only\n",
    "ped_data = merged_data[(merged_data[\"involved_class\"] == \"PEDESTRIAN\") | (merged_data[\"involved_class\"] == \"PEDESTRIAN - NOT HIT\")]\n",
    "\n",
    "# group by district and involved injury class, count collisions\n",
    "district_injury_counts = ped_data[ped_data[\"involved_injury_class\"].isin([\"FATAL\", \"MAJOR\"])].groupby([\"district\", \"involved_injury_class\"])[\"collision_no\"].count()\n",
    "\n",
    "# pivot table to make injury class columns\n",
    "district_injury_counts = district_injury_counts.reset_index().pivot(index=\"district\", columns=\"involved_injury_class\", values=\"collision_no\")\n",
    "\n",
    "# sort by total collisions\n",
    "district_injury_counts[\"Total\"] = district_injury_counts.sum(axis=1)\n",
    "district_injury_counts = district_injury_counts.sort_values(by=\"Total\", ascending=False).drop(\"Total\", axis=1)\n",
    "\n",
    "# create stacked bar chart\n",
    "ax = district_injury_counts.plot(kind=\"bar\", stacked=True, figsize=(10, 6))\n",
    "ax.set_ylabel(\"Number of Collisions\")\n",
    "ax.set_title(\"Pedestrian Collisions Resulting in Fatality or Major Injury by District\")\n",
    "plt.show()\n"
   ]
  }
 ],
 "metadata": {
  "kernelspec": {
   "display_name": "Python 3",
   "language": "python",
   "name": "python3"
  },
  "language_info": {
   "codemirror_mode": {
    "name": "ipython",
    "version": 3
   },
   "file_extension": ".py",
   "mimetype": "text/x-python",
   "name": "python",
   "nbconvert_exporter": "python",
   "pygments_lexer": "ipython3",
   "version": "3.7.4"
  }
 },
 "nbformat": 4,
 "nbformat_minor": 2
}
